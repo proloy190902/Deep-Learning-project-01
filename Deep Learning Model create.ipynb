{
 "cells": [
  {
   "cell_type": "code",
   "execution_count": 1,
   "id": "03b69993-f378-4a7e-8384-97a1e1199d7d",
   "metadata": {},
   "outputs": [],
   "source": [
    "import tensorflow as tf\n",
    "import numpy as np\n",
    "import pandas as pd\n",
    "import matplotlib.pyplot as plt\n",
    "%matplotlib inline\n",
    "import warnings\n",
    "warnings.filterwarnings('ignore')"
   ]
  },
  {
   "cell_type": "code",
   "execution_count": null,
   "id": "794d8922-39f6-47bf-9661-da45aa8c3a80",
   "metadata": {},
   "outputs": [],
   "source": []
  },
  {
   "cell_type": "code",
   "execution_count": 6,
   "id": "85105a96-c956-4687-be21-823d64a59ba4",
   "metadata": {},
   "outputs": [],
   "source": [
    "class NeuralNetwork:\n",
    "    def __init__ (self,layers):\n",
    "        self.layers=layers\n",
    "        self.L=len(layers)\n",
    "        self.number_feature=layers[0]\n",
    "        self.number_class=layers[1]\n",
    "        self.w={}\n",
    "        self.b={}\n",
    "        self.dw={}\n",
    "        self.db={}\n",
    "        self.setup()\n",
    "    def setup(self):\n",
    "        for i in range(1,self.L):\n",
    "            self.w[i]=tf.Variable(tf.random.normal(shape=(self.layers[i], self.layers[i-1])))\n",
    "            self.b[i]=tf.Variable(tf.random.normal(shape=(sel.layers[i],1)))\n",
    "            \n",
    "   "
   ]
  },
  {
   "cell_type": "code",
   "execution_count": 7,
   "id": "5c8014b5-12bd-48a5-b064-88b2db7faca1",
   "metadata": {},
   "outputs": [],
   "source": [
    "class NeuralNetwork(NeuralNetwork):\n",
    "    def forwardPass(self,A):\n",
    "        A=tf.convert_to_tensor(A,dtype=32)\n",
    "        for i in range(1, self.L):\n",
    "            Z= tf.matmul(A, tf.transpose(self.w[i])) + tf.transpose(self.b[i])\n",
    "            if i!= self.L-1:\n",
    "                A=tf.nn.relu(Z)\n",
    "            else:\n",
    "                A=Z\n",
    "        return A"
   ]
  },
  {
   "cell_type": "code",
   "execution_count": 8,
   "id": "2df96677-1506-4f70-a480-b9785ee871b1",
   "metadata": {},
   "outputs": [],
   "source": [
    "class NeuralNetwork(NeuralNetwork):\n",
    "    def compute_loss(self, A, Y):\n",
    "        return tf.reduce_mean(tf.nn.softmax_cross_entropy_with_logits(Y, A))\n",
    "    def upgrade_parameters(self,lr):\n",
    "        for j in range(1, self.L):\n",
    "            self.w[j].assign_sub(lr*self.dw[j])\n",
    "            self.b[j].assign_sub(lr*self.db[j])"
   ]
  },
  {
   "cell_type": "code",
   "execution_count": 9,
   "id": "a5c1098e-c789-4889-a2ea-66c67882999b",
   "metadata": {},
   "outputs": [],
   "source": [
    "class NeuralNetwork(NeuralNetwork):\n",
    "    def predict(self,x):\n",
    "        A= self.forwardpass(x)\n",
    "        return tf.argmax(tf.nn.softmax(A), axis=1)\n",
    "    def info(self):\n",
    "        num_params=0\n",
    "        for i in range(1, self.L):\n",
    "            num_params+=self.w[i].shape[0]*self.w[i].shape[1]\n",
    "            num_params+=self.b[i].shape[0]\n",
    "        print(\"Number of Feature: {}\".format(self.number_feature))\n",
    "        print(\"Number of Class: {}\".format(self.number_class))\n",
    "        \n",
    "        print(\"Hidden Layer Information is : \")\n",
    "        for j in range(1, self.L-1):\n",
    "            print(\"Layer: {}, units {}\".format(i,self.layers[j]))\n",
    "        \n",
    "        print(\"Total Number of Parameters : {}\".format(num_params))\n",
    "            \n",
    "            \n",
    "    "
   ]
  },
  {
   "cell_type": "code",
   "execution_count": 10,
   "id": "4ad4ee5f-2b44-4064-af41-c8e40170efed",
   "metadata": {},
   "outputs": [],
   "source": [
    "class NeuralNetwork(NeuralNetwork):\n",
    "    def train(self, x_train, x_test, y_train, y_test,epochs, step_per_epochs, batch_size, lr):\n",
    "        history={\"val_loss\":[],\n",
    "                 \"train_loss\":[],\n",
    "                 \"val_acc\":[]}\n",
    "                 "
   ]
  },
  {
   "cell_type": "code",
   "execution_count": null,
   "id": "329094aa-e66a-4496-a428-693c7e1e43b2",
   "metadata": {},
   "outputs": [],
   "source": []
  },
  {
   "cell_type": "code",
   "execution_count": null,
   "id": "fdbcb323-9f6e-489f-8642-51a947490e7d",
   "metadata": {},
   "outputs": [],
   "source": []
  }
 ],
 "metadata": {
  "kernelspec": {
   "display_name": "Python 3 (ipykernel)",
   "language": "python",
   "name": "python3"
  },
  "language_info": {
   "codemirror_mode": {
    "name": "ipython",
    "version": 3
   },
   "file_extension": ".py",
   "mimetype": "text/x-python",
   "name": "python",
   "nbconvert_exporter": "python",
   "pygments_lexer": "ipython3",
   "version": "3.10.4"
  }
 },
 "nbformat": 4,
 "nbformat_minor": 5
}
